{
  "nbformat": 4,
  "nbformat_minor": 0,
  "metadata": {
    "colab": {
      "provenance": []
    },
    "kernelspec": {
      "name": "python3",
      "display_name": "Python 3"
    },
    "language_info": {
      "name": "python"
    }
  },
  "cells": [
    {
      "cell_type": "code",
      "source": [
        "from google.colab import drive\n",
        "drive.mount('/content/gdrive/', force_remount = True)"
      ],
      "metadata": {
        "colab": {
          "base_uri": "https://localhost:8080/"
        },
        "id": "7jVn-Q1oTP2I",
        "outputId": "d46e3d4b-9431-48c4-d132-76c2e92ba2f2"
      },
      "execution_count": 1,
      "outputs": [
        {
          "output_type": "stream",
          "name": "stdout",
          "text": [
            "Mounted at /content/gdrive/\n"
          ]
        }
      ]
    },
    {
      "cell_type": "code",
      "source": [
        "import pandas as pd"
      ],
      "metadata": {
        "id": "fFnhDwPiTnVk"
      },
      "execution_count": 3,
      "outputs": []
    },
    {
      "cell_type": "code",
      "source": [
        "# 1. Import the data.\n",
        "df = pd.read_csv('/content/gdrive/MyDrive/ECON441B/insurance.csv')"
      ],
      "metadata": {
        "id": "91QH4UaETfYb"
      },
      "execution_count": 4,
      "outputs": []
    },
    {
      "cell_type": "code",
      "source": [
        "df.loc[df['sex'] == 'female', 'sex']= 1.\n",
        "df.loc[df['sex'] == 'male', 'sex']= 0.\n",
        "\n",
        "df.loc[df['smoker'] == 'no', 'smoker']= 0.\n",
        "df.loc[df['smoker'] == 'yes', 'smoker']= 1.\n",
        "\n",
        "df.loc[df['region'] == 'southwest', 'region']= 0\n",
        "df.loc[df['region'] == 'southeast', 'region']= 1\n",
        "df.loc[df['region'] == 'northwest', 'region']= 2\n",
        "df.loc[df['region'] == 'northeast', 'region']= 3\n",
        "\n"
      ],
      "metadata": {
        "id": "YoXkUFatTsyr"
      },
      "execution_count": 22,
      "outputs": []
    },
    {
      "cell_type": "code",
      "source": [
        "import numpy as np"
      ],
      "metadata": {
        "id": "9Oufjc0JT6iP"
      },
      "execution_count": 6,
      "outputs": []
    },
    {
      "cell_type": "code",
      "source": [
        "data = np.array(df.iloc[:, :-1]) \n",
        "target = np.array(df.iloc[:, -1])"
      ],
      "metadata": {
        "id": "5dQNFuRkT8VX"
      },
      "execution_count": 24,
      "outputs": []
    },
    {
      "cell_type": "code",
      "source": [
        "cut = int((len(data) * .8) //1)"
      ],
      "metadata": {
        "id": "Jyb37eh6URVM"
      },
      "execution_count": 29,
      "outputs": []
    },
    {
      "cell_type": "code",
      "source": [
        "# 2. Split the data in to 80/20.\n",
        "in_data = data[:cut]\n",
        "out_data = data[cut:]\n",
        "\n",
        "in_target = target[:cut]\n",
        "out_target = target[cut:]"
      ],
      "metadata": {
        "id": "542XKt8SUbfF"
      },
      "execution_count": 30,
      "outputs": []
    },
    {
      "cell_type": "code",
      "source": [
        "\n",
        "\n",
        "from sklearn import preprocessing"
      ],
      "metadata": {
        "id": "1IQE1g7FUw2i"
      },
      "execution_count": 33,
      "outputs": []
    },
    {
      "cell_type": "code",
      "source": [
        "# 3. Normalize the data\n",
        "scaler = preprocessing.StandardScaler().fit(in_data)\n",
        "in_data_scale = scaler.transform(in_data)\n",
        "\n",
        "out_data_scale = scaler.transform(out_data)\n"
      ],
      "metadata": {
        "id": "EGFf8zCrU0Or"
      },
      "execution_count": 35,
      "outputs": []
    },
    {
      "cell_type": "code",
      "source": [
        "from sklearn.linear_model import LassoCV\n",
        "from sklearn.linear_model import Lasso\n",
        "# 4. Get lambda.\n",
        "\n",
        "modCV = LassoCV().fit(in_data_scale, in_target)\n",
        "\n",
        "a = modCV.alpha_\n"
      ],
      "metadata": {
        "id": "15O0UFSEVpTZ"
      },
      "execution_count": 71,
      "outputs": []
    },
    {
      "cell_type": "code",
      "source": [
        "# 5. Run a lambda regression.\n",
        "mod1 = Lasso(alpha = a).fit(in_data_scale, in_target)"
      ],
      "metadata": {
        "id": "5mImqZ-dnWlt"
      },
      "execution_count": 52,
      "outputs": []
    },
    {
      "cell_type": "code",
      "source": [
        "mod1.coef_"
      ],
      "metadata": {
        "colab": {
          "base_uri": "https://localhost:8080/"
        },
        "id": "X4b5MNVrrxGx",
        "outputId": "91b5662f-1bfa-4804-c185-9b2faf5fc0e3"
      },
      "execution_count": 53,
      "outputs": [
        {
          "output_type": "execute_result",
          "data": {
            "text/plain": [
              "array([3564.26137833,    0.        , 1890.8527485 ,  398.24050447,\n",
              "       9324.84227138,  326.52198757])"
            ]
          },
          "metadata": {},
          "execution_count": 53
        }
      ]
    },
    {
      "cell_type": "code",
      "source": [
        "# 6. Plot the coefficients.\n",
        "import matplotlib.pyplot as plt\n",
        "fig = plt.figure()\n",
        "ax = fig.add_axes([0,0,1,1])\n",
        "ax.bar(df.columns[:-1], mod1.coef_)\n",
        "plt.show()"
      ],
      "metadata": {
        "colab": {
          "base_uri": "https://localhost:8080/",
          "height": 336
        },
        "id": "ACb9m8O00QFH",
        "outputId": "fe0a914e-50ee-4260-cc79-1824647801e2"
      },
      "execution_count": 68,
      "outputs": [
        {
          "output_type": "display_data",
          "data": {
            "text/plain": [
              "<Figure size 432x288 with 1 Axes>"
            ],
            "image/png": "[encoded data removed]"
          },
          "metadata": {
            "needs_background": "light"
          }
        }
      ]
    },
    {
      "cell_type": "markdown",
      "source": [
        "7. Interpret the coefficients. \n",
        "It appears that whether the respondent is a smoker has the strongest impact on the charge. On average, a smoker is charged $9324 more than a non-smoker. Age and bmi also seem to have stronger impact, as well. The coefficient for sex is reduced to 0, suggesting that it is less important to the amount of insurance charge."
      ],
      "metadata": {
        "id": "D47fanV4QPPC"
      }
    },
    {
      "cell_type": "code",
      "source": [
        "in_predict = mod1.predict(np.array(in_data_scale))\n",
        "out_predict = mod1.predict(np.array(out_data_scale))\n"
      ],
      "metadata": {
        "id": "-5a6W7-u1yhm"
      },
      "execution_count": 64,
      "outputs": []
    },
    {
      "cell_type": "code",
      "source": [
        "# 8. Compare the in and out of sample MSE.\n",
        "in_MSE = np.square(np.subtract(in_target,in_predict)).mean()\n",
        "out_MSE = np.square(np.subtract(out_target,out_predict)).mean()\n",
        "print(in_MSE)\n",
        "print(out_MSE)\n",
        "# The out-of-sample MSE is slightly larger than the in-sample MSE. "
      ],
      "metadata": {
        "colab": {
          "base_uri": "https://localhost:8080/"
        },
        "id": "O6BLW7Fi4Hkk",
        "outputId": "98104079-27dc-45b1-edec-24087e860046"
      },
      "execution_count": 66,
      "outputs": [
        {
          "output_type": "stream",
          "name": "stdout",
          "text": [
            "36490415.101693384\n",
            "37252730.724018715\n"
          ]
        }
      ]
    }
  ]
}